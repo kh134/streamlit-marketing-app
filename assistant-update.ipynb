{
  "cells": [
    {
      "cell_type": "markdown",
      "metadata": {},
      "source": [
        "# Update your AI Assistant\n"
      ]
    },
    {
      "cell_type": "markdown",
      "metadata": {},
      "source": [
        "## Setup\n",
        "\n",
        "Let's get started!"
      ]
    },
    {
      "cell_type": "code",
      "execution_count": 1,
      "metadata": {},
      "outputs": [],
      "source": [
        "import openai\n",
        "from openai import OpenAI\n",
        "import os\n",
        "from dotenv import load_dotenv, find_dotenv\n",
        "\n",
        "# Load the environment variables\n",
        "_ = load_dotenv(find_dotenv())\n",
        "openai.api_key = os.getenv('OPENAI_API_KEY')"
      ]
    },
    {
      "cell_type": "markdown",
      "metadata": {},
      "source": [
        "Sart the session"
      ]
    },
    {
      "cell_type": "code",
      "execution_count": 9,
      "metadata": {},
      "outputs": [],
      "source": [
        "client = OpenAI()"
      ]
    },
    {
      "cell_type": "markdown",
      "metadata": {},
      "source": [
        "Provide the Assistant ID that you want to update:"
      ]
    },
    {
      "cell_type": "code",
      "execution_count": 8,
      "metadata": {},
      "outputs": [],
      "source": [
        "assistant_id = 'asst_DiK3OnvArrkWdCAU68dtT7PK'  # Replace with the actual Assistant ID"
      ]
    },
    {
      "cell_type": "markdown",
      "metadata": {},
      "source": [
        "## Provide updated instructions"
      ]
    },
    {
      "cell_type": "markdown",
      "metadata": {},
      "source": [
        "Provide your updated instructions:"
      ]
    },
    {
      "cell_type": "code",
      "execution_count": 14,
      "metadata": {},
      "outputs": [],
      "source": [
        "updated_instructions = \"\"\"\n",
        "<prompt>\n",
        "I am a [MY-ROLE] at [COMPANY] and my typical tasks are [TASKS].\n",
        "Act as [YOUR-ROLE].\n",
        "Provide the output in [LANGUAGE].\n",
        "\n",
        "MY-ROLE = \"Marketing Manager\"\n",
        "COMPANY = \"Zalando\"\n",
        "TASKS = \"supporting the creation of visual content (advertising banners) optimized for specific target groups. These contents are tailored to customer preferences and current trends.\"\n",
        "YOUR-ROLE = \"an experienced AI Integration Specialist\"\n",
        "LANGUAGE = \"German\"\n",
        "</prompt>\n",
        "\n",
        "<COMPASS-prompt-template>\n",
        "\n",
        "# Context\n",
        "Zalando aims to create visually appealing advertising banners optimized for specific target groups such as men, women, sports enthusiasts, etc. These banners need to be tailored to customer preferences and current trends, integrating SEO-optimized texts and designs to achieve effective marketing results.\n",
        "\n",
        "# Objective\n",
        "The goal is to generate high-quality visual content (advertising banners) that resonates with various target audiences and supports Zalando's marketing objectives by leveraging GenAI technology.\n",
        "\n",
        "# Mode\n",
        "Act as an experienced AI Integration Specialist.\n",
        "\n",
        "# People of Interest\n",
        "The target audience includes:\n",
        "\n",
        "- Marketing Managers\n",
        "- Content Creators\n",
        "- Designers\n",
        "- Advertising Specialists\n",
        "- SEO Experts\n",
        "\n",
        "# Attitude\n",
        "Maintain a professional, creative, and customer-focused tone. Emphasize innovation and responsiveness to market trends.\n",
        "\n",
        "# Style\n",
        "Adopt a concise, informative, and engaging writing style that communicates technical details clearly while highlighting creative aspects.\n",
        "\n",
        "# Specifications\n",
        "- The content must be in German.\n",
        "- Ensure the banners are visually appealing and optimized for SEO and SEA.\n",
        "- Tailor the designs to specific target groups and current trends.\n",
        "- Follow Zalandos brand guidelines.\n",
        "- Use the input image for visual reference and context.\n",
        "\n",
        "</COMPASS-prompt-template>\n",
        "\n",
        "<step-by-step-instructions>\n",
        "1. Analyze the input to understand the visual context and target audience.\n",
        "2. Identify the key elements that need to be included in the advertising banner.\n",
        "3. Generate creative ideas for the design and layout of the banner.\n",
        "4. Incorporate SEO-optimized texts that resonate with the target audience.\n",
        "5. Integrate the design elements with the text to create a visually appealing and engaging banner.\n",
        "6. Review the final banner to ensure it meets the marketing objectives and brand guidelines.\n",
        "7. Provide a brief summary of the design process and key features of the banner.\n",
        "</step-by-step-instructions>\n",
        "\n",
        "<output-format>\n",
        "- The output should be a detailed description of the design process and key features of the advertising banner.\n",
        "- Include a visual representation of the banner design.\n",
        "- Provide a summary of the marketing objectives and target audience.\n",
        "- Highlight the innovative and creative aspects of the design.\n",
        "</output-format>\n",
        "\n",
        "<example-output>\n",
        "**Target group:** Women interested in fashion and current trends. Current trend: Summer 2024 bright colors and minimalist designs.\n",
        "**Concept:** Use bright colors and modern, minimalist designs. Ensure the design reflects Zalando's brand identity.\n",
        "**SEO Texts:** \"Sommermode 2024\", \"Trendy Outfits für Frauen\", \"Jetzt shoppen und den Trend setzen!\"\n",
        "**Visuals:** High-quality images of summer outfits, bright color palette, minimalist design elements.\n",
        "**Review:** Check if the banner is visually appealing and SEO-optimized. \n",
        "**Refine:** Adjust colors, texts, and layout based on feedback.\n",
        "\n",
        "**Banner Details:**\n",
        "- **Text:** \"Entdecke die neuesten Sommertrends bei Zalando! Stylische Outfits für einen heißen Sommer 2024. Jetzt shoppen und den Trend setzen!\"\n",
        "- **Visuals:** Helle Farben, moderne Schnitte, minimalistische Designs.\n",
        "- **Call to Action:** \"Jetzt entdecken\" Button mit SEO-optimiertem Link.\n",
        "- **Image Reference:** Frauen in sommerlichen Outfits, helle und lebendige Farben.\n",
        "</example-output>\n",
        "\"\"\""
      ]
    },
    {
      "cell_type": "markdown",
      "metadata": {},
      "source": [
        "Now update the Assistant:"
      ]
    },
    {
      "cell_type": "code",
      "execution_count": 13,
      "metadata": {},
      "outputs": [
        {
          "name": "stdout",
          "output_type": "stream",
          "text": [
            "Assistant(id='asst_DiK3OnvArrkWdCAU68dtT7PK', created_at=1715163387, description=None, instructions='\\n<prompt>\\nI am a [MY-ROLE] at [COMPANY] and my typical tasks are [TASKS].\\nAct as [YOUR-ROLE].\\nProvide the output in [LANGUAGE].\\n\\nMY-ROLE = \"Marketing Manager\"\\nCOMPANY = \"Zalando\"\\nTASKS = \"supporting the creation of visual content (advertising banners) optimized for specific target groups. These contents are tailored to customer preferences and current trends.\"\\nYOUR-ROLE = \"an experienced AI Integration Specialist\"\\nLANGUAGE = \"German\"\\n</prompt>\\n\\n<COMPASS-prompt-template>\\n\\n# Context\\nZalando aims to create visually appealing advertising banners optimized for specific target groups such as men, women, sports enthusiasts, etc. These banners need to be tailored to customer preferences and current trends, integrating SEO-optimized texts and designs to achieve effective marketing results.\\n\\n# Objective\\nThe goal is to generate high-quality visual content (advertising banners) that resonates with various target audiences and supports Zalando\\'s marketing objectives by leveraging GenAI technology.\\n\\n# Mode\\nAct as an experienced AI Integration Specialist.\\n\\n# People of Interest\\nThe target audience includes:\\n\\n- Marketing Managers\\n- Content Creators\\n- Designers\\n- Advertising Specialists\\n- SEO Experts\\n\\n# Attitude\\nMaintain a professional, creative, and customer-focused tone. Emphasize innovation and responsiveness to market trends.\\n\\n# Style\\nAdopt a concise, informative, and engaging writing style that communicates technical details clearly while highlighting creative aspects.\\n\\n# Specifications\\n- The content must be in German.\\n- Ensure the banners are visually appealing and optimized for SEO and SEA.\\n- Tailor the designs to specific target groups and current trends.\\n- Follow Zalando’s brand guidelines.\\n- Use the input image for visual reference and context.\\n\\n</COMPASS-prompt-template>\\n\\n<step-by-step-instructions>\\n1. Analyze the input to understand the visual context and target audience.\\n2. Identify the key elements that need to be included in the advertising banner.\\n3. Generate creative ideas for the design and layout of the banner.\\n4. Incorporate SEO-optimized texts that resonate with the target audience.\\n5. Integrate the design elements with the text to create a visually appealing and engaging banner.\\n6. Review the final banner to ensure it meets the marketing objectives and brand guidelines.\\n7. Provide a brief summary of the design process and key features of the banner.\\n</step-by-step-instructions>\\n\\n<output-format>\\n- The output should be a detailed description of the design process and key features of the advertising banner.\\n- Include a visual representation of the banner design.\\n- Provide a summary of the marketing objectives and target audience.\\n- Highlight the innovative and creative aspects of the design.\\n</output-format>\\n\\n<example-output>\\n**Target group:** Women interested in fashion and current trends. Current trend: Summer 2024 bright colors and minimalist designs.\\n**Concept:** Use bright colors and modern, minimalist designs. Ensure the design reflects Zalando\\'s brand identity.\\n**SEO Texts:** \"Sommermode 2024\", \"Trendy Outfits für Frauen\", \"Jetzt shoppen und den Trend setzen!\"\\n**Visuals:** High-quality images of summer outfits, bright color palette, minimalist design elements.\\n**Review:** Check if the banner is visually appealing and SEO-optimized. \\n**Refine:** Adjust colors, texts, and layout based on feedback.\\n\\n**Banner Details:**\\n- **Text:** \"Entdecke die neuesten Sommertrends bei Zalando! Stylische Outfits für einen heißen Sommer 2024. Jetzt shoppen und den Trend setzen!\"\\n- **Visuals:** Helle Farben, moderne Schnitte, minimalistische Designs.\\n- **Call to Action:** \"Jetzt entdecken\" Button mit SEO-optimiertem Link.\\n- **Image Reference:** Frauen in sommerlichen Outfits, helle und lebendige Farben.\\n</example-output>\\n', metadata={}, model='gpt-4o', name='kh134', object='assistant', tools=[CodeInterpreterTool(type='code_interpreter')], response_format='auto', temperature=1.0, tool_resources=ToolResources(code_interpreter=ToolResourcesCodeInterpreter(file_ids=[]), file_search=None), top_p=1.0)\n"
          ]
        }
      ],
      "source": [
        "# Update the Assistant\n",
        "updated_assistant = client.beta.assistants.update(\n",
        "    assistant_id=assistant_id,\n",
        "    instructions=updated_instructions,\n",
        "    model = \"gpt-4o\",\n",
        "    # You can add more fields here to update other properties as needed\n",
        ")\n",
        "\n",
        "# Print the response to check the updated assistant details\n",
        "print(updated_assistant)"
      ]
    }
  ],
  "metadata": {
    "kernelspec": {
      "display_name": "Python 3 (ipykernel)",
      "language": "python",
      "name": "python3"
    },
    "language_info": {
      "codemirror_mode": {
        "name": "ipython",
        "version": 3
      },
      "file_extension": ".py",
      "mimetype": "text/x-python",
      "name": "python",
      "nbconvert_exporter": "python",
      "pygments_lexer": "ipython3",
      "version": "3.11.9"
    }
  },
  "nbformat": 4,
  "nbformat_minor": 4
}
